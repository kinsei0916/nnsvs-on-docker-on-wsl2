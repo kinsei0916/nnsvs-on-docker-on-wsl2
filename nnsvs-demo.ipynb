{
 "cells": [
  {
   "cell_type": "markdown",
   "metadata": {},
   "source": [
    "# NNSVS"
   ]
  },
  {
   "cell_type": "markdown",
   "metadata": {},
   "source": [
    "事前に [研究者向け東北きりたん歌唱データベース ログインページ](https://zunko.jp/kiridev/login.php) から kiritan_singing.zip をダウンロードし，このノートブックと同階層に展開しておく．"
   ]
  },
  {
   "cell_type": "markdown",
   "metadata": {},
   "source": [
    "## Install requirements"
   ]
  },
  {
   "cell_type": "code",
   "execution_count": null,
   "metadata": {},
   "outputs": [],
   "source": [
    "! git clone https://github.com/r9y9/hts_engine_API\n",
    "! cd hts_engine_API/src && python3 waf configure --prefix=/usr/ && python3 waf build > /dev/null 2>&1 && python3 waf install\n",
    "! git clone https://github.com/r9y9/sinsy\n",
    "! cd sinsy/src/ && mkdir -p build && cd build && cmake -DCMAKE_BUILD_TYPE=Release -DBUILD_SHARED_LIBS=ON -DCMAKE_INSTALL_PREFIX=/usr/ .. && make -j > /dev/null 2>&1 && make install"
   ]
  },
  {
   "cell_type": "code",
   "execution_count": null,
   "metadata": {},
   "outputs": [],
   "source": [
    "! git clone https://github.com/r9y9/pysinsy\n",
    "! cd pysinsy && export SINSY_INSTALL_PREFIX=/usr/ && pip3 install .\n",
    "! git clone https://github.com/r9y9/nnmnkwii\n",
    "! cd nnmnkwii && pip3 install .\n",
    "! git clone https://github.com/r9y9/nnsvs\n",
    "! cd nnsvs && pip3 install ."
   ]
  },
  {
   "cell_type": "markdown",
   "metadata": {},
   "source": [
    "## Setups"
   ]
  },
  {
   "cell_type": "code",
   "execution_count": null,
   "metadata": {},
   "outputs": [],
   "source": [
    "import pysptk\n",
    "import pyworld\n",
    "\n",
    "sample_rate = 48000\n",
    "frame_period = 5\n",
    "fftlen = pyworld.get_cheaptrick_fft_size(sample_rate)\n",
    "alpha = pysptk.util.mcepalpha(sample_rate)\n",
    "hop_length = int(0.001 * frame_period * sample_rate)"
   ]
  },
  {
   "cell_type": "markdown",
   "metadata": {},
   "source": [
    "## Setup models"
   ]
  },
  {
   "cell_type": "code",
   "execution_count": null,
   "metadata": {},
   "outputs": [],
   "source": [
    "KIRITAN_SINGING_00_SVS_WORLD_ROOT=\"nnsvs/egs/kiritan_singing/00-svs-world/\""
   ]
  },
  {
   "cell_type": "code",
   "execution_count": null,
   "metadata": {},
   "outputs": [],
   "source": [
    "! sed -i 's#[$]HOME\\/data#\\/workspace#g' $KIRITAN_SINGING_00_SVS_WORLD_ROOT/run.sh"
   ]
  },
  {
   "cell_type": "markdown",
   "metadata": {},
   "source": [
    "## Data download"
   ]
  },
  {
   "cell_type": "code",
   "execution_count": null,
   "metadata": {},
   "outputs": [],
   "source": [
    "! cd $KIRITAN_SINGING_00_SVS_WORLD_ROOT && ./run.sh --stage -1 --stop-stage -1"
   ]
  },
  {
   "cell_type": "markdown",
   "metadata": {},
   "source": [
    "## Data preparation"
   ]
  },
  {
   "cell_type": "code",
   "execution_count": null,
   "metadata": {},
   "outputs": [],
   "source": [
    "! cd $KIRITAN_SINGING_00_SVS_WORLD_ROOT && rm -rf downloads/kiritan_singing/kiritan_singing_extra\n",
    "! cd $KIRITAN_SINGING_00_SVS_WORLD_ROOT/downloads/kiritan_singing && git clone https://github.com/r9y9/kiritan_singing_extra"
   ]
  },
  {
   "cell_type": "code",
   "execution_count": null,
   "metadata": {},
   "outputs": [],
   "source": [
    "! mkdir -p /usr/local/lib/sinsy\n",
    "! ln -s /usr/lib/sinsy/dic /usr/local/lib/sinsy/dic"
   ]
  },
  {
   "cell_type": "code",
   "execution_count": null,
   "metadata": {},
   "outputs": [],
   "source": [
    "! cd $KIRITAN_SINGING_00_SVS_WORLD_ROOT && ./run.sh --stage 0 --stop-stage 0"
   ]
  },
  {
   "cell_type": "markdown",
   "metadata": {},
   "source": [
    "## Feature extraction"
   ]
  },
  {
   "cell_type": "code",
   "execution_count": null,
   "metadata": {},
   "outputs": [],
   "source": [
    "! cd $KIRITAN_SINGING_00_SVS_WORLD_ROOT && ./run.sh --stage 1 --stop-stage 1"
   ]
  },
  {
   "cell_type": "markdown",
   "metadata": {},
   "source": [
    "## Training timelag/duration/acoustic models"
   ]
  },
  {
   "cell_type": "markdown",
   "metadata": {},
   "source": [
    "### - Timelag model"
   ]
  },
  {
   "cell_type": "code",
   "execution_count": null,
   "metadata": {},
   "outputs": [],
   "source": [
    "! cd $KIRITAN_SINGING_00_SVS_WORLD_ROOT && ./run.sh --stage 2 --stop-stage 2"
   ]
  },
  {
   "cell_type": "markdown",
   "metadata": {},
   "source": [
    "### - Phoneme duration model"
   ]
  },
  {
   "cell_type": "code",
   "execution_count": null,
   "metadata": {},
   "outputs": [],
   "source": [
    "! cd $KIRITAN_SINGING_00_SVS_WORLD_ROOT && ./run.sh --stage 3 --stop-stage 3"
   ]
  },
  {
   "cell_type": "markdown",
   "metadata": {},
   "source": [
    "### - Acoustic model"
   ]
  },
  {
   "cell_type": "code",
   "execution_count": null,
   "metadata": {},
   "outputs": [],
   "source": [
    "! cd $KIRITAN_SINGING_00_SVS_WORLD_ROOT && ./run.sh --stage 4 --stop-stage 4"
   ]
  },
  {
   "cell_type": "markdown",
   "metadata": {},
   "source": [
    "## Synthesis"
   ]
  },
  {
   "cell_type": "markdown",
   "metadata": {},
   "source": [
    "### - Generate features from timelag/duration/acoustic models"
   ]
  },
  {
   "cell_type": "code",
   "execution_count": null,
   "metadata": {},
   "outputs": [],
   "source": [
    "! cd $KIRITAN_SINGING_00_SVS_WORLD_ROOT && ./run.sh --stage 5 --stop-stage 5"
   ]
  },
  {
   "cell_type": "markdown",
   "metadata": {},
   "source": [
    "### - Synthesize waveforms"
   ]
  },
  {
   "cell_type": "code",
   "execution_count": null,
   "metadata": {},
   "outputs": [],
   "source": [
    "! cd $KIRITAN_SINGING_00_SVS_WORLD_ROOT && ./run.sh --stage 6 --stop-stage 6"
   ]
  },
  {
   "cell_type": "markdown",
   "metadata": {},
   "source": [
    "## Generated samples"
   ]
  },
  {
   "cell_type": "code",
   "execution_count": null,
   "metadata": {},
   "outputs": [],
   "source": [
    "import IPython\n",
    "from IPython.display import Audio\n",
    "from glob import glob\n",
    "from os.path import join\n",
    "\n",
    "sample_rate = 48000\n",
    "synthesized_wav_paths = sorted(glob(join(KIRITAN_SINGING_00_SVS_WORLD_ROOT, \"exp/kiritan/synthesis/**/label_phone_score/*.wav\"),  recursive=True))\n",
    "\n",
    "for wav_path in synthesized_wav_paths:\n",
    "    print(wav_path)\n",
    "    IPython.display.display(Audio(wav_path, rate=sample_rate))"
   ]
  }
 ],
 "metadata": {
  "kernelspec": {
   "display_name": "Python 3",
   "language": "python",
   "name": "python3"
  },
  "language_info": {
   "codemirror_mode": {
    "name": "ipython",
    "version": 3
   },
   "file_extension": ".py",
   "mimetype": "text/x-python",
   "name": "python",
   "nbconvert_exporter": "python",
   "pygments_lexer": "ipython3",
   "version": "3.6.9"
  }
 },
 "nbformat": 4,
 "nbformat_minor": 4
}
