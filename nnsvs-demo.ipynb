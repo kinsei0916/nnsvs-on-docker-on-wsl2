{
 "cells": [
  {
   "cell_type": "markdown",
   "metadata": {},
   "source": [
    "# NNSVS"
   ]
  },
  {
   "cell_type": "markdown",
   "metadata": {},
   "source": [
    "事前に [研究者向け東北きりたん歌唱データベース ログインページ](https://zunko.jp/kiridev/login.php) から kiritan_singing.zip をダウンロードし任意のディレクトリに展開してください．"
   ]
  },
  {
   "cell_type": "markdown",
   "metadata": {},
   "source": [
    "## Install requirements"
   ]
  },
  {
   "cell_type": "code",
   "execution_count": null,
   "metadata": {},
   "outputs": [],
   "source": [
    "! git clone https://github.com/r9y9/pysinsy\n",
    "! cd pysinsy && export SINSY_INSTALL_PREFIX=/usr/ && pip3 install .\n",
    "! git clone https://github.com/r9y9/nnmnkwii\n",
    "! cd nnmnkwii && pip3 install ."
   ]
  },
  {
   "cell_type": "code",
   "execution_count": null,
   "metadata": {},
   "outputs": [],
   "source": [
    "! git clone https://github.com/r9y9/nnsvs\n",
    "! cd nnsvs && pip3 install -e ."
   ]
  },
  {
   "cell_type": "markdown",
   "metadata": {},
   "source": [
    "## Setups"
   ]
  },
  {
   "cell_type": "code",
   "execution_count": null,
   "metadata": {},
   "outputs": [],
   "source": [
    "WAV_ROOT = '/workspace/kiritan_singing/wav'\n",
    "SVS_WORLD_CONV = 'nnsvs/egs/kiritan_singing/svs-world-conv/'"
   ]
  },
  {
   "cell_type": "code",
   "execution_count": null,
   "metadata": {},
   "outputs": [],
   "source": [
    "! sed -i 's@\\/home\\/ryuichi\\/data\\/kiritan_singing\\/wav@'\"$WAV_ROOT\"'@g' $SVS_WORLD_CONV/config.yaml"
   ]
  },
  {
   "cell_type": "markdown",
   "metadata": {},
   "source": [
    "## Data download"
   ]
  },
  {
   "cell_type": "code",
   "execution_count": null,
   "metadata": {},
   "outputs": [],
   "source": [
    "! cd $SVS_WORLD_CONV && ./run.sh --stage -1 --stop-stage -1"
   ]
  },
  {
   "cell_type": "markdown",
   "metadata": {},
   "source": [
    "## Data preparation"
   ]
  },
  {
   "cell_type": "code",
   "execution_count": null,
   "metadata": {},
   "outputs": [],
   "source": [
    "! cd $SVS_WORLD_CONV && rm -rf downloads/kiritan_singing/kiritan_singing_extra\n",
    "! cd $SVS_WORLD_CONV/downloads/kiritan_singing && git clone https://github.com/r9y9/kiritan_singing_extra"
   ]
  },
  {
   "cell_type": "code",
   "execution_count": null,
   "metadata": {},
   "outputs": [],
   "source": [
    "! mkdir -p /usr/local/lib/sinsy\n",
    "! ln -s /usr/lib/sinsy/dic /usr/local/lib/sinsy/dic"
   ]
  },
  {
   "cell_type": "code",
   "execution_count": null,
   "metadata": {},
   "outputs": [],
   "source": [
    "! cd $SVS_WORLD_CONV && ./run.sh --stage 0 --stop-stage 0"
   ]
  },
  {
   "cell_type": "markdown",
   "metadata": {},
   "source": [
    "## Feature extraction"
   ]
  },
  {
   "cell_type": "code",
   "execution_count": null,
   "metadata": {},
   "outputs": [],
   "source": [
    "! cd $SVS_WORLD_CONV && ./run.sh --stage 1 --stop-stage 1"
   ]
  },
  {
   "cell_type": "markdown",
   "metadata": {},
   "source": [
    "## Training models"
   ]
  },
  {
   "cell_type": "markdown",
   "metadata": {},
   "source": [
    "### - Timelag model"
   ]
  },
  {
   "cell_type": "code",
   "execution_count": null,
   "metadata": {},
   "outputs": [],
   "source": [
    "! cd $SVS_WORLD_CONV && ./run.sh --stage 2 --stop-stage 2"
   ]
  },
  {
   "cell_type": "markdown",
   "metadata": {},
   "source": [
    "### - Phoneme duration model"
   ]
  },
  {
   "cell_type": "code",
   "execution_count": null,
   "metadata": {},
   "outputs": [],
   "source": [
    "! cd $SVS_WORLD_CONV && ./run.sh --stage 3 --stop-stage 3"
   ]
  },
  {
   "cell_type": "markdown",
   "metadata": {},
   "source": [
    "### - Acoustic model"
   ]
  },
  {
   "cell_type": "code",
   "execution_count": null,
   "metadata": {},
   "outputs": [],
   "source": [
    "! cd $SVS_WORLD_CONV && ./run.sh --stage 4 --stop-stage 4"
   ]
  },
  {
   "cell_type": "markdown",
   "metadata": {},
   "source": [
    "## Synthesis"
   ]
  },
  {
   "cell_type": "markdown",
   "metadata": {},
   "source": [
    "### - Generate features from timelag/duration/acoustic models"
   ]
  },
  {
   "cell_type": "code",
   "execution_count": null,
   "metadata": {},
   "outputs": [],
   "source": [
    "! cd $SVS_WORLD_CONV && ./run.sh --stage 5 --stop-stage 5"
   ]
  },
  {
   "cell_type": "markdown",
   "metadata": {},
   "source": [
    "### - Synthesize waveforms"
   ]
  },
  {
   "cell_type": "code",
   "execution_count": null,
   "metadata": {},
   "outputs": [],
   "source": [
    "! cd $SVS_WORLD_CONV && ./run.sh --stage 6 --stop-stage 6"
   ]
  },
  {
   "cell_type": "markdown",
   "metadata": {},
   "source": [
    "## Generated samples"
   ]
  },
  {
   "cell_type": "code",
   "execution_count": null,
   "metadata": {},
   "outputs": [],
   "source": [
    "import IPython\n",
    "from IPython.display import Audio\n",
    "from glob import glob\n",
    "from os.path import join\n",
    "\n",
    "sample_rate = 48000\n",
    "synthesized_wav_paths = sorted(glob(join(SVS_WORLD_CONV, 'exp/kiritan/synthesis/**/label_phone_score/*.wav'),  recursive=True))\n",
    "\n",
    "for wav_path in synthesized_wav_paths:\n",
    "    print(wav_path)\n",
    "    IPython.display.display(Audio(wav_path, rate=sample_rate))"
   ]
  },
  {
   "cell_type": "markdown",
   "metadata": {},
   "source": [
    "## Synthesize your own songs"
   ]
  },
  {
   "cell_type": "markdown",
   "metadata": {},
   "source": [
    "### Generate labels"
   ]
  },
  {
   "cell_type": "code",
   "execution_count": null,
   "metadata": {},
   "outputs": [],
   "source": [
    "from os.path import join\n",
    "\n",
    "sample_dir = 'sample/'\n",
    "song_list_path = join(sample_dir, 'song.list')\n",
    "sample_score = join(sample_dir, 'score')\n",
    "sample_label = join(sample_dir, 'label')\n",
    "sample_wav = join(sample_dir, 'wav')"
   ]
  },
  {
   "cell_type": "code",
   "execution_count": null,
   "metadata": {},
   "outputs": [],
   "source": [
    "import pysinsy\n",
    "from os import makedirs\n",
    "from os.path import basename, join, splitext\n",
    "from glob import glob\n",
    "\n",
    "sinsy = pysinsy.sinsy.Sinsy()\n",
    "assert sinsy.setLanguages('j', '/usr/local/lib/sinsy/dic')\n",
    "\n",
    "song_list = []\n",
    "musicxml_files = glob(join(sample_score, '*.*xml'))\n",
    "\n",
    "makedirs(sample_label, exist_ok=True)\n",
    "\n",
    "for musicxml_file in musicxml_files:\n",
    "    assert sinsy.loadScoreFromMusicXML(musicxml_file)\n",
    "    is_mono = False\n",
    "    labels = sinsy.createLabelData(is_mono, 1, 1).getData()\n",
    "    song_name = splitext(basename(musicxml_file))[0]\n",
    "    song_list.append(song_name)\n",
    "    lab_file_path = join(sample_label,  song_name + '.lab')\n",
    "\n",
    "    with open(lab_file_path, 'w') as f:\n",
    "         f.write('\\n'.join(labels))\n",
    "\n",
    "    sinsy.clearScore()\n",
    "\n",
    "with open(song_list_path, 'w') as f:\n",
    "    f.write('\\n'.join(song_list))"
   ]
  },
  {
   "cell_type": "markdown",
   "metadata": {},
   "source": [
    "### Synthesize"
   ]
  },
  {
   "cell_type": "code",
   "execution_count": null,
   "metadata": {},
   "outputs": [],
   "source": [
    "from os.path import join\n",
    "\n",
    "spk = 'kiritan'\n",
    "question_path = 'nnsvs/egs/_common/hed/jp_qst001_nnsvs.hed'\n",
    "expdir = join(SVS_WORLD_CONV, 'exp/kiritan')\n",
    "dump_norm_dir = join(SVS_WORLD_CONV, 'dump', spk, 'norm')\n",
    "\n",
    "! nnsvs-synthesis question_path=$question_path \\\n",
    "timelag.checkpoint=$expdir/timelag/latest.pth \\\n",
    "timelag.in_scaler_path=$dump_norm_dir/in_timelag_scaler.joblib \\\n",
    "timelag.out_scaler_path=$dump_norm_dir/out_timelag_scaler.joblib \\\n",
    "timelag.model_yaml=$expdir/timelag/model.yaml \\\n",
    "duration.checkpoint=$expdir/duration/latest.pth \\\n",
    "duration.in_scaler_path=$dump_norm_dir/in_duration_scaler.joblib \\\n",
    "duration.out_scaler_path=$dump_norm_dir/out_duration_scaler.joblib \\\n",
    "duration.model_yaml=$expdir/duration/model.yaml \\\n",
    "acoustic.checkpoint=$expdir/acoustic/latest.pth \\\n",
    "acoustic.in_scaler_path=$dump_norm_dir/in_acoustic_scaler.joblib \\\n",
    "acoustic.out_scaler_path=$dump_norm_dir/out_acoustic_scaler.joblib \\\n",
    "acoustic.model_yaml=$expdir/acoustic/model.yaml \\\n",
    "utt_list=$song_list_path \\\n",
    "in_dir=$sample_label \\\n",
    "out_dir=$sample_wav \\\n",
    "ground_truth_duration=false"
   ]
  }
 ],
 "metadata": {
  "kernelspec": {
   "display_name": "Python 3",
   "language": "python",
   "name": "python3"
  },
  "language_info": {
   "codemirror_mode": {
    "name": "ipython",
    "version": 3
   },
   "file_extension": ".py",
   "mimetype": "text/x-python",
   "name": "python",
   "nbconvert_exporter": "python",
   "pygments_lexer": "ipython3",
   "version": "3.6.9"
  }
 },
 "nbformat": 4,
 "nbformat_minor": 4
}
